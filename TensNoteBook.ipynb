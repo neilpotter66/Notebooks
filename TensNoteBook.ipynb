{
 "cells": [
  {
   "cell_type": "code",
   "execution_count": null,
   "metadata": {
    "collapsed": false
   },
   "outputs": [],
   "source": [
    "from bs4 import BeautifulSoup\n",
    "import requests\n",
    "r = requests.get('http://www.bbc.co.uk/')\n",
    "data = r.text\n",
    "soup = BeautifulSoup(data, \"html.parser\")\n",
    "\n",
    "print(soup.prettify())"
   ]
  },
  {
   "cell_type": "code",
   "execution_count": 2,
   "metadata": {
    "collapsed": false
   },
   "outputs": [
    {
     "data": {
      "text/plain": [
       "<title>BBC - Home</title>"
      ]
     },
     "execution_count": 2,
     "metadata": {},
     "output_type": "execute_result"
    }
   ],
   "source": [
    "soup.title"
   ]
  },
  {
   "cell_type": "code",
   "execution_count": 4,
   "metadata": {
    "collapsed": false
   },
   "outputs": [
    {
     "name": "stdout",
     "output_type": "stream",
     "text": [
      "\n",
      "Want to opt in to our alternative page? Find out more here\n",
      "Kunta Kinte is kidnapped, sold to English slave traders and brought to Maryland in the US.\n",
      "The team race against the clock in London to solve two murders.\n",
      "A nine-year-old girl goes missing, and a frantic search ensues.\n",
      "The team visit a scarecrow festival, an event that both unites and divides the community.\n",
      "Alice Levine meets couples who fall in love online but have never met in real life.\n",
      "James Delaney returns to London to claim a mysterious legacy left to him by his father.\n",
      "Melvyn Bragg and guests discuss John Clare, poet and farm labourer.\n",
      "This week's stories lovingly bashed, mashed and moulded into sketches and one-liners.\n",
      "Writer Nicholas Royle returns three library books - three decades after he borrowed them.\n",
      "Quantifying the impact of humanity on the earth's natural systems.\n",
      "Poet Sarah Cuddon explores the career of the French 'New Wave' director Jacques Demy.\n",
      "Marc Almond of Soft Cell and his Buried Treasure, plus Time Run and Alice Lowe.\n"
     ]
    }
   ],
   "source": [
    "for link in soup.find_all('p'):\n",
    "    print(link.text)"
   ]
  },
  {
   "cell_type": "code",
   "execution_count": null,
   "metadata": {
    "collapsed": true
   },
   "outputs": [],
   "source": []
  }
 ],
 "metadata": {
  "anaconda-cloud": {},
  "kernelspec": {
   "display_name": "Python [conda env:tensorflow]",
   "language": "python",
   "name": "conda-env-tensorflow-py"
  },
  "language_info": {
   "codemirror_mode": {
    "name": "ipython",
    "version": 3
   },
   "file_extension": ".py",
   "mimetype": "text/x-python",
   "name": "python",
   "nbconvert_exporter": "python",
   "pygments_lexer": "ipython3",
   "version": "3.5.2"
  }
 },
 "nbformat": 4,
 "nbformat_minor": 1
}
