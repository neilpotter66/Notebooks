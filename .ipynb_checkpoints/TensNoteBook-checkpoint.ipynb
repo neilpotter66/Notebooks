{
 "cells": [
  {
   "cell_type": "code",
   "execution_count": 1,
   "metadata": {
    "collapsed": true
   },
   "outputs": [],
   "source": [
    "html_doc = \"\"\"\n",
    "<html><head><title>The Dormouse's story</title></head>\n",
    "<body>\n",
    "<p class=\"title\"><b>The Dormouse's story</b></p>\n",
    "\n",
    "<p class=\"story\">Once upon a time there were three little sisters; and their names were\n",
    "<a href=\"http://example.com/elsie\" class=\"sister\" id=\"link1\">Elsie</a>,\n",
    "<a href=\"http://example.com/lacie\" class=\"sister\" id=\"link2\">Lacie</a> and\n",
    "<a href=\"http://example.com/tillie\" class=\"sister\" id=\"link3\">Tillie</a>;\n",
    "and they lived at the bottom of a well.</p>\n",
    "\n",
    "<p class=\"story\">...</p>\n",
    "\"\"\""
   ]
  },
  {
   "cell_type": "code",
   "execution_count": 10,
   "metadata": {
    "collapsed": false
   },
   "outputs": [],
   "source": [
    "from bs4 import BeautifulSoup\n",
    "import requests\n",
    "r = requests.get('http://www.pythonforbeginners.com')\n",
    "data = r.text\n",
    "soup = BeautifulSoup(data, \"html.parser\")\n",
    "\n",
    "# print(soup.prettify())"
   ]
  },
  {
   "cell_type": "code",
   "execution_count": 11,
   "metadata": {
    "collapsed": false
   },
   "outputs": [
    {
     "data": {
      "text/plain": [
       "<title> Pythonforbeginners.com - Learn Python by Example </title>"
      ]
     },
     "execution_count": 11,
     "metadata": {},
     "output_type": "execute_result"
    }
   ],
   "source": [
    "soup.title"
   ]
  },
  {
   "cell_type": "code",
   "execution_count": 13,
   "metadata": {
    "collapsed": false
   },
   "outputs": [
    {
     "name": "stdout",
     "output_type": "stream",
     "text": [
      "/\n",
      "/\n",
      "/learn-python/\n",
      "/basics/\n",
      "/lists/\n",
      "/dictionary/\n",
      "/code-snippets-source-code/\n",
      "/modules-in-python/\n",
      "/cheatsheet/python-cheat-sheets\n",
      "/cheatsheet/python-cheat-sheets\n",
      "/cheatsheet/\n",
      "/python-cheatsheet/\n",
      "/beautifulsoup/beautifulsoup-4-python\n",
      "/beautifulsoup/beautifulsoup-4-python\n",
      "/beautifulsoup/\n",
      "/python-on-the-web/\n",
      "/python-on-the-web/web-scraping-with-beautifulsoup\n",
      "/python-on-the-web/web-scraping-with-beautifulsoup\n",
      "/python-on-the-web/\n",
      "/basics/python-quick-guide\n",
      "/basics/python-quick-guide\n",
      "/basics/\n",
      "/python-quick-guide/\n",
      "/basics/del-statement\n",
      "/basics/del-statement\n",
      "/basics/\n",
      "/basics/__str__-vs-__repr\n",
      "/basics/__str__-vs-__repr\n",
      "/basics/\n",
      "/basics/break-and-continue-statements\n",
      "/basics/break-and-continue-statements\n",
      "/basics/\n",
      "/code/numeric-types-python\n",
      "/code/numeric-types-python\n",
      "/code/\n",
      "/python/dns-lookup-python\n",
      "/python/dns-lookup-python\n",
      "/python/\n",
      "/dictionary/parsing-json-python\n",
      "/dictionary/parsing-json-python\n",
      "/dictionary/\n",
      "?page=1\n",
      "#\n",
      "#\n",
      "?page=2\n",
      "?page=3\n",
      "?page=4\n",
      "?page=5\n",
      "?page=6\n",
      "?page=7\n",
      "?page=8\n",
      "?page=9\n",
      "?page=10\n",
      "?page=2\n",
      "?page=20\n",
      "https://twitter.com/intent/follow?original_referer=http%3A%2F%2Fwww.pythonforbeginners.com%2F®ion=follow_link&screen_name=pythonbeginners&tw_p=followbutton\n",
      "/basics/\n",
      "/cheatsheet/\n",
      "/code-snippets-source-code/\n",
      "/development/\n",
      "/dictionary/\n",
      "/error-handling/\n",
      "/lists/\n",
      "/loops/\n",
      "/modules-in-python/\n",
      "/python-strings/\n",
      "/systems-programming/\n",
      "/python-on-the-web/\n",
      "http://pythonforbeginners.com\n",
      "/privacy-policy/\n"
     ]
    }
   ],
   "source": [
    "for link in soup.find_all('a'):\n",
    "    print(link.get('href'))"
   ]
  },
  {
   "cell_type": "code",
   "execution_count": null,
   "metadata": {
    "collapsed": true
   },
   "outputs": [],
   "source": []
  }
 ],
 "metadata": {
  "anaconda-cloud": {},
  "kernelspec": {
   "display_name": "Python [conda env:tensorflow]",
   "language": "python",
   "name": "conda-env-tensorflow-py"
  },
  "language_info": {
   "codemirror_mode": {
    "name": "ipython",
    "version": 3
   },
   "file_extension": ".py",
   "mimetype": "text/x-python",
   "name": "python",
   "nbconvert_exporter": "python",
   "pygments_lexer": "ipython3",
   "version": "3.5.2"
  }
 },
 "nbformat": 4,
 "nbformat_minor": 1
}
