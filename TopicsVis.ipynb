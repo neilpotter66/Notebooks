{
 "cells": [
  {
   "cell_type": "code",
   "execution_count": 1,
   "metadata": {
    "collapsed": false
   },
   "outputs": [],
   "source": [
    "import nltk\n",
    "import gensim\n",
    "import pyLDAvis\n",
    "import pyLDAvis.gensim\n",
    "import pandas\n",
    "\n",
    "from gensim import corpora, models\n",
    "from nltk.corpus import stopwords\n",
    "from nltk.stem.porter import PorterStemmer\n",
    "\n",
    "pyLDAvis.enable_notebook()"
   ]
  },
  {
   "cell_type": "code",
   "execution_count": 2,
   "metadata": {
    "collapsed": false
   },
   "outputs": [],
   "source": [
    "documents = [\"Apple make expensive computers\", \"amazon sell lots of things including computers\", \"The amazon is a big wet jungle\"]\n",
    "stops = set(stopwords.words(\"english\"))\n"
   ]
  },
  {
   "cell_type": "code",
   "execution_count": 3,
   "metadata": {
    "collapsed": false
   },
   "outputs": [
    {
     "name": "stdout",
     "output_type": "stream",
     "text": [
      "[[(0, 1), (1, 1), (2, 1), (3, 1)], [(1, 1), (4, 1), (5, 1), (6, 1), (7, 1), (8, 1)], [(6, 1), (9, 1), (10, 1), (11, 1)]]\n",
      "[['apple', 'make', 'expensive', 'computers'], ['amazon', 'sell', 'lots', 'things', 'including', 'computers'], ['amazon', 'big', 'wet', 'jungle']]\n"
     ]
    }
   ],
   "source": [
    "texts = [[word for word in document.lower().split() if word not in stops] for document in documents]\n",
    "dictionary = corpora.Dictionary(texts)\n",
    "corpus = [dictionary.doc2bow(text) for text in texts]\n",
    "print(corpus)\n",
    "print(texts)"
   ]
  },
  {
   "cell_type": "code",
   "execution_count": 4,
   "metadata": {
    "collapsed": true
   },
   "outputs": [],
   "source": [
    "lda = gensim.models.ldamodel.LdaModel(corpus=corpus, id2word=dictionary, num_topics=2, passes=10)"
   ]
  },
  {
   "cell_type": "code",
   "execution_count": 5,
   "metadata": {
    "collapsed": false
   },
   "outputs": [
    {
     "data": {
      "text/plain": [
       "[(0,\n",
       "  u'0.156*\"computers\" + 0.094*\"sell\" + 0.094*\"lots\" + 0.094*\"including\" + 0.094*\"things\" + 0.094*\"amazon\" + 0.093*\"apple\" + 0.093*\"expensive\" + 0.092*\"make\" + 0.032*\"jungle\"'),\n",
       " (1,\n",
       "  u'0.149*\"amazon\" + 0.147*\"wet\" + 0.147*\"big\" + 0.147*\"jungle\" + 0.053*\"make\" + 0.052*\"expensive\" + 0.052*\"apple\" + 0.051*\"computers\" + 0.050*\"things\" + 0.050*\"including\"')]"
      ]
     },
     "execution_count": 5,
     "metadata": {},
     "output_type": "execute_result"
    }
   ],
   "source": [
    "lda.print_topics(5)"
   ]
  },
  {
   "cell_type": "code",
   "execution_count": 6,
   "metadata": {
    "collapsed": false
   },
   "outputs": [
    {
     "data": {
      "text/html": [
       "\n",
       "<link rel=\"stylesheet\" type=\"text/css\" href=\"https://cdn.rawgit.com/bmabey/pyLDAvis/files/ldavis.v1.0.0.css\">\n",
       "\n",
       "\n",
       "<div id=\"ldavis_el57641396933890779686873487557\"></div>\n",
       "<script type=\"text/javascript\">\n",
       "\n",
       "var ldavis_el57641396933890779686873487557_data = {\"plot.opts\": {\"xlab\": \"PC1\", \"ylab\": \"PC2\"}, \"topic.order\": [1, 2], \"token.table\": {\"Topic\": [1, 2, 1, 2, 1, 1, 1, 2, 1, 1, 1, 1, 2], \"Freq\": [0.6400548772122842, 0.6400548772122842, 0.8963345612892119, 1.0334500221393343, 0.5830498479060643, 0.8966123611673347, 0.8940299454361702, 1.0333912620381043, 0.8940285754613486, 0.8971230781347524, 0.8940224768353459, 0.8941306372783708, 1.03354051450879], \"Term\": [\"amazon\", \"amazon\", \"apple\", \"big\", \"computers\", \"expensive\", \"including\", \"jungle\", \"lots\", \"make\", \"sell\", \"things\", \"wet\"]}, \"mdsDat\": {\"y\": [0.0, 0.0], \"cluster\": [1, 1], \"Freq\": [67.8092778143515, 32.190722185648504], \"topics\": [1, 2], \"x\": [0.04944072154056653, -0.04944072154056653]}, \"R\": 12, \"lambda.step\": 0.01, \"tinfo\": {\"Category\": [\"Default\", \"Default\", \"Default\", \"Default\", \"Default\", \"Default\", \"Default\", \"Default\", \"Default\", \"Default\", \"Default\", \"Default\", \"Topic1\", \"Topic1\", \"Topic1\", \"Topic1\", \"Topic1\", \"Topic1\", \"Topic1\", \"Topic1\", \"Topic1\", \"Topic1\", \"Topic1\", \"Topic1\", \"Topic2\", \"Topic2\", \"Topic2\", \"Topic2\", \"Topic2\", \"Topic2\", \"Topic2\", \"Topic2\", \"Topic2\", \"Topic2\", \"Topic2\", \"Topic2\"], \"Term\": [\"wet\", \"big\", \"jungle\", \"amazon\", \"computers\", \"make\", \"expensive\", \"apple\", \"things\", \"including\", \"lots\", \"sell\", \"computers\", \"sell\", \"lots\", \"including\", \"things\", \"apple\", \"expensive\", \"make\", \"amazon\", \"jungle\", \"big\", \"wet\", \"wet\", \"big\", \"jungle\", \"amazon\", \"make\", \"expensive\", \"apple\", \"things\", \"including\", \"lots\", \"sell\", \"computers\"], \"loglift\": [12.0, 11.0, 10.0, 9.0, 8.0, 7.0, 6.0, 5.0, 4.0, 3.0, 2.0, 1.0, 0.2433, 0.1623, 0.1623, 0.1623, 0.1619, 0.1523, 0.151, 0.1488, -0.1752, -0.7652, -0.7658, -0.7668, 0.7552, 0.7547, 0.7544, 0.2916, -0.4124, -0.4207, -0.4253, -0.4622, -0.4639, -0.4639, -0.4641, -0.8681], \"Freq\": [0.0, 0.0, 0.0, 1.0, 1.0, 1.0, 1.0, 1.0, 1.0, 1.0, 1.0, 1.0, 1.483375836727433, 0.8921555324117241, 0.8921258490801688, 0.8921191811721628, 0.8916291522375823, 0.8809310688806061, 0.8795863309155777, 0.8771162907497889, 0.889123695314094, 0.30529788040531913, 0.30508383359957036, 0.3047542425151812, 0.6627937016263885, 0.6625488323032376, 0.662389806471142, 0.6732423386038608, 0.23755796562888262, 0.23572285208303825, 0.2347237805337516, 0.2267756516106373, 0.22641158516825335, 0.22640663125354615, 0.2263845780559596, 0.2317433826520922], \"Total\": [0.0, 0.0, 0.0, 1.0, 1.0, 1.0, 1.0, 1.0, 1.0, 1.0, 1.0, 1.0, 1.7151192193795253, 1.1185401104676838, 1.1185324803337149, 1.1185307663404163, 1.1184048038482197, 1.1156548494143577, 1.115309182998616, 1.1146742563786716, 1.5623660339179548, 0.9676876868764611, 0.9676326659028079, 0.9675479441415697, 0.9675479441415697, 0.9676326659028079, 0.9676876868764611, 1.5623660339179548, 1.1146742563786716, 1.115309182998616, 1.1156548494143577, 1.1184048038482197, 1.1185307663404163, 1.1185324803337149, 1.1185401104676838, 1.7151192193795253], \"logprob\": [12.0, 11.0, 10.0, 9.0, 8.0, 7.0, 6.0, 5.0, 4.0, 3.0, 2.0, 1.0, -1.8563, -2.3647, -2.3647, -2.3647, -2.3653, -2.3774, -2.3789, -2.3817, -2.3681, -3.4371, -3.4378, -3.4388, -1.9169, -1.9172, -1.9175, -1.9012, -2.9429, -2.9507, -2.9549, -2.9894, -2.991, -2.991, -2.9911, -2.9677]}};\n",
       "\n",
       "function LDAvis_load_lib(url, callback){\n",
       "  var s = document.createElement('script');\n",
       "  s.src = url;\n",
       "  s.async = true;\n",
       "  s.onreadystatechange = s.onload = callback;\n",
       "  s.onerror = function(){console.warn(\"failed to load library \" + url);};\n",
       "  document.getElementsByTagName(\"head\")[0].appendChild(s);\n",
       "}\n",
       "\n",
       "if(typeof(LDAvis) !== \"undefined\"){\n",
       "   // already loaded: just create the visualization\n",
       "   !function(LDAvis){\n",
       "       new LDAvis(\"#\" + \"ldavis_el57641396933890779686873487557\", ldavis_el57641396933890779686873487557_data);\n",
       "   }(LDAvis);\n",
       "}else if(typeof define === \"function\" && define.amd){\n",
       "   // require.js is available: use it to load d3/LDAvis\n",
       "   require.config({paths: {d3: \"https://cdnjs.cloudflare.com/ajax/libs/d3/3.5.5/d3.min\"}});\n",
       "   require([\"d3\"], function(d3){\n",
       "      window.d3 = d3;\n",
       "      LDAvis_load_lib(\"https://cdn.rawgit.com/bmabey/pyLDAvis/files/ldavis.v1.0.0.js\", function(){\n",
       "        new LDAvis(\"#\" + \"ldavis_el57641396933890779686873487557\", ldavis_el57641396933890779686873487557_data);\n",
       "      });\n",
       "    });\n",
       "}else{\n",
       "    // require.js not available: dynamically load d3 & LDAvis\n",
       "    LDAvis_load_lib(\"https://cdnjs.cloudflare.com/ajax/libs/d3/3.5.5/d3.min.js\", function(){\n",
       "         LDAvis_load_lib(\"https://cdn.rawgit.com/bmabey/pyLDAvis/files/ldavis.v1.0.0.js\", function(){\n",
       "                 new LDAvis(\"#\" + \"ldavis_el57641396933890779686873487557\", ldavis_el57641396933890779686873487557_data);\n",
       "            })\n",
       "         });\n",
       "}\n",
       "</script>"
      ],
      "text/plain": [
       "PreparedData(topic_coordinates=            Freq  cluster  topics         x    y\n",
       "topic                                           \n",
       "0      67.809278        1       1  0.049441  0.0\n",
       "1      32.190722        1       2 -0.049441  0.0, topic_info=     Category      Freq       Term     Total  loglift  logprob\n",
       "term                                                          \n",
       "6     Default  0.000000        wet  0.000000  12.0000  12.0000\n",
       "10    Default  0.000000        big  0.000000  11.0000  11.0000\n",
       "9     Default  0.000000     jungle  0.000000  10.0000  10.0000\n",
       "7     Default  1.000000     amazon  1.000000   9.0000   9.0000\n",
       "5     Default  1.000000  computers  1.000000   8.0000   8.0000\n",
       "4     Default  1.000000       make  1.000000   7.0000   7.0000\n",
       "11    Default  1.000000  expensive  1.000000   6.0000   6.0000\n",
       "1     Default  1.000000      apple  1.000000   5.0000   5.0000\n",
       "3     Default  1.000000     things  1.000000   4.0000   4.0000\n",
       "8     Default  1.000000  including  1.000000   3.0000   3.0000\n",
       "2     Default  1.000000       lots  1.000000   2.0000   2.0000\n",
       "0     Default  1.000000       sell  1.000000   1.0000   1.0000\n",
       "5      Topic1  1.483376  computers  1.715119   0.2433  -1.8563\n",
       "0      Topic1  0.892156       sell  1.118540   0.1623  -2.3647\n",
       "2      Topic1  0.892126       lots  1.118532   0.1623  -2.3647\n",
       "8      Topic1  0.892119  including  1.118531   0.1623  -2.3647\n",
       "3      Topic1  0.891629     things  1.118405   0.1619  -2.3653\n",
       "1      Topic1  0.880931      apple  1.115655   0.1523  -2.3774\n",
       "11     Topic1  0.879586  expensive  1.115309   0.1510  -2.3789\n",
       "4      Topic1  0.877116       make  1.114674   0.1488  -2.3817\n",
       "7      Topic1  0.889124     amazon  1.562366  -0.1752  -2.3681\n",
       "9      Topic1  0.305298     jungle  0.967688  -0.7652  -3.4371\n",
       "10     Topic1  0.305084        big  0.967633  -0.7658  -3.4378\n",
       "6      Topic1  0.304754        wet  0.967548  -0.7668  -3.4388\n",
       "6      Topic2  0.662794        wet  0.967548   0.7552  -1.9169\n",
       "10     Topic2  0.662549        big  0.967633   0.7547  -1.9172\n",
       "9      Topic2  0.662390     jungle  0.967688   0.7544  -1.9175\n",
       "7      Topic2  0.673242     amazon  1.562366   0.2916  -1.9012\n",
       "4      Topic2  0.237558       make  1.114674  -0.4124  -2.9429\n",
       "11     Topic2  0.235723  expensive  1.115309  -0.4207  -2.9507\n",
       "1      Topic2  0.234724      apple  1.115655  -0.4253  -2.9549\n",
       "3      Topic2  0.226776     things  1.118405  -0.4622  -2.9894\n",
       "8      Topic2  0.226412  including  1.118531  -0.4639  -2.9910\n",
       "2      Topic2  0.226407       lots  1.118532  -0.4639  -2.9910\n",
       "0      Topic2  0.226385       sell  1.118540  -0.4641  -2.9911\n",
       "5      Topic2  0.231743  computers  1.715119  -0.8681  -2.9677, token_table=      Topic      Freq       Term\n",
       "term                            \n",
       "7         1  0.640055     amazon\n",
       "7         2  0.640055     amazon\n",
       "1         1  0.896335      apple\n",
       "10        2  1.033450        big\n",
       "5         1  0.583050  computers\n",
       "11        1  0.896612  expensive\n",
       "8         1  0.894030  including\n",
       "9         2  1.033391     jungle\n",
       "2         1  0.894029       lots\n",
       "4         1  0.897123       make\n",
       "0         1  0.894022       sell\n",
       "3         1  0.894131     things\n",
       "6         2  1.033541        wet, R=12, lambda_step=0.01, plot_opts={'xlab': 'PC1', 'ylab': 'PC2'}, topic_order=[1, 2])"
      ]
     },
     "execution_count": 6,
     "metadata": {},
     "output_type": "execute_result"
    }
   ],
   "source": [
    "Viewmodel = pyLDAvis.gensim.prepare(lda,corpus,dictionary)\n",
    "Viewmodel"
   ]
  },
  {
   "cell_type": "code",
   "execution_count": null,
   "metadata": {
    "collapsed": true
   },
   "outputs": [],
   "source": []
  }
 ],
 "metadata": {
  "kernelspec": {
   "display_name": "Python 2",
   "language": "python",
   "name": "python2"
  },
  "language_info": {
   "codemirror_mode": {
    "name": "ipython",
    "version": 2
   },
   "file_extension": ".py",
   "mimetype": "text/x-python",
   "name": "python",
   "nbconvert_exporter": "python",
   "pygments_lexer": "ipython2",
   "version": "2.7.13"
  }
 },
 "nbformat": 4,
 "nbformat_minor": 2
}
